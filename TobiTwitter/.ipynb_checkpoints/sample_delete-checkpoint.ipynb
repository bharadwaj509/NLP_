{
 "cells": [
  {
   "cell_type": "code",
   "execution_count": 17,
   "metadata": {
    "collapsed": false
   },
   "outputs": [
    {
     "name": "stdout",
     "output_type": "stream",
     "text": [
      "(S\n",
      "(NP\n",
      "(NNP\n",
      "(VP\n",
      "(VBZ\n",
      "(NP\n",
      "(NP\n",
      "(DT\n",
      "(NN\n",
      "(VP\n",
      "(VBG\n",
      "(NP\n",
      "(NNS\n"
     ]
    }
   ],
   "source": [
    "tree_string = \"(S (NP (NNP James)) (VP (VBZ is) (NP (NP (DT a) (NN boy)) (VP (VBG eating) (NP (NNS sausages))))))\"\n",
    "\n",
    "stack_list = []\n",
    "stack_chars = []\n",
    "for i in range(len(tree_string)):\n",
    "    if tree_string[i] == '(':\n",
    "        _str = \"\"\n",
    "        for j in range(i, len(tree_string)):\n",
    "            if tree_string[j] is ' ':\n",
    "                break\n",
    "            else:\n",
    "                _str += tree_string[j]\n",
    "        i = i+j\n",
    "        stack_list.append(_str)   \n",
    "    "
   ]
  },
  {
   "cell_type": "code",
   "execution_count": null,
   "metadata": {
    "collapsed": true
   },
   "outputs": [],
   "source": []
  }
 ],
 "metadata": {
  "kernelspec": {
   "display_name": "Python 3",
   "language": "python",
   "name": "python3"
  },
  "language_info": {
   "codemirror_mode": {
    "name": "ipython",
    "version": 3
   },
   "file_extension": ".py",
   "mimetype": "text/x-python",
   "name": "python",
   "nbconvert_exporter": "python",
   "pygments_lexer": "ipython3",
   "version": "3.5.2"
  }
 },
 "nbformat": 4,
 "nbformat_minor": 2
}
