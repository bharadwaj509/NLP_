{
 "cells": [
  {
   "cell_type": "code",
   "execution_count": 79,
   "metadata": {
    "collapsed": false
   },
   "outputs": [
    {
     "name": "stdout",
     "output_type": "stream",
     "text": [
      "J\n",
      "hello\n",
      "(S\n",
      "(NP\n",
      "(NNP\n",
      "i in else 12\n",
      "James\n",
      "i in  ( 17\n",
      "i in  ( 18\n",
      "i in  ( 19\n",
      "(VP\n",
      "(VBZ\n",
      "i in else 29\n",
      "is\n",
      "i in  ( 31\n",
      "i in  ( 32\n",
      "(NP\n",
      "(NP\n",
      "(DT\n",
      "i in else 45\n",
      "a\n",
      "i in  ( 46\n",
      "i in  ( 47\n",
      "(NN\n",
      "i in else 52\n",
      "boy\n",
      "i in  ( 55\n",
      "i in  ( 56\n",
      "i in  ( 57\n",
      "(VP\n",
      "(VBG\n",
      "i in else 67\n",
      "eating\n",
      "i in  ( 73\n",
      "i in  ( 74\n",
      "(NP\n",
      "(NNS\n",
      "i in else 84\n",
      "sausages\n",
      "i in  ( 92\n",
      "i in  ( 93\n",
      "i in  ( 94\n",
      "i in  ( 95\n",
      "i in  ( 96\n",
      "i in  ( 97\n",
      "['(S', '(NP', '(NNP', '(VP', '(VBZ', '(NP', '(NP', '(DT', '(NN', '(VP', '(VBG', '(NP', '(NNS']\n",
      "['James', 'is', 'a', 'boy', 'eating', 'sausages']\n"
     ]
    }
   ],
   "source": [
    "tree_string = \"(S (NP (NNP James)) (VP (VBZ is) (NP (NP (DT a) (NN boy)) (VP (VBG eating) (NP (NNS sausages))))))\"\n",
    "\n",
    "stack_list = []\n",
    "stack_chars = []\n",
    "i=0\n",
    "#while len(stack_list)>0\n",
    "while i<len(tree_string):\n",
    "    if tree_string[i] == '(':\n",
    "        _str = \"\"\n",
    "        j=i\n",
    "        while j<len(tree_string):\n",
    "            if tree_string[j] is ' ':\n",
    "                j=j+1\n",
    "                break\n",
    "            else:\n",
    "                _str += tree_string[j]\n",
    "                j=j+1\n",
    "        i = i+len(_str)+1\n",
    "        print(_str)\n",
    "        stack_list.append(_str)   \n",
    "    elif tree_string[i] == ')' or tree_string[i]==' ':\n",
    "        print(\"i in  (\",str(i))\n",
    "        i = i+1\n",
    "    else:\n",
    "        print(\"i in else\",str(i))\n",
    "        _chars = \"\"\n",
    "        j=i\n",
    "        while j<len(tree_string):\n",
    "            if tree_string[j] is ')':\n",
    "                j=j+1\n",
    "                break\n",
    "            else:\n",
    "                _chars += tree_string[j]\n",
    "                j=j+1\n",
    "        i = i+len(_chars)\n",
    "        print(_chars)\n",
    "        stack_chars.append(_chars)\n",
    "    \n",
    "print(stack_list)\n",
    "print(stack_chars)"
   ]
  },
  {
   "cell_type": "code",
   "execution_count": null,
   "metadata": {
    "collapsed": true
   },
   "outputs": [],
   "source": []
  }
 ],
 "metadata": {
  "kernelspec": {
   "display_name": "Python 3",
   "language": "python",
   "name": "python3"
  },
  "language_info": {
   "codemirror_mode": {
    "name": "ipython",
    "version": 3
   },
   "file_extension": ".py",
   "mimetype": "text/x-python",
   "name": "python",
   "nbconvert_exporter": "python",
   "pygments_lexer": "ipython3",
   "version": "3.5.2"
  }
 },
 "nbformat": 4,
 "nbformat_minor": 2
}
